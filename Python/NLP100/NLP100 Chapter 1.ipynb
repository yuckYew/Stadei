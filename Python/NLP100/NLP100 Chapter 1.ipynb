{
 "cells": [
  {
   "cell_type": "markdown",
   "metadata": {},
   "source": [
    "# 言語処理100本ノックをやってみる\n",
    "\n",
    "実装はPython3. noobによるめちゃくちゃ汚いコードです."
   ]
  },
  {
   "cell_type": "markdown",
   "metadata": {},
   "source": [
    "# 第1章: 準備運動\n",
    "\n",
    "## 00. 文字列の逆順\n",
    "\n",
    "文字列\"stressed\"の文字を逆に（末尾から先頭に向かって）並べた文字列を得よ．"
   ]
  },
  {
   "cell_type": "code",
   "execution_count": 21,
   "metadata": {
    "collapsed": false
   },
   "outputs": [
    {
     "data": {
      "text/plain": [
       "'desserts'"
      ]
     },
     "execution_count": 21,
     "metadata": {},
     "output_type": "execute_result"
    }
   ],
   "source": [
    "a00string = \"stressed\"\n",
    "a00string[::-1]"
   ]
  },
  {
   "cell_type": "markdown",
   "metadata": {},
   "source": [
    "## 01. 「パタトクカシーー」\n",
    "「パタトクカシーー」という文字列の1,3,5,7文字目を取り出して連結した文字列を得よ．"
   ]
  },
  {
   "cell_type": "code",
   "execution_count": 22,
   "metadata": {
    "collapsed": false
   },
   "outputs": [
    {
     "name": "stdout",
     "output_type": "stream",
     "text": [
      "0, 2, 4, 6th letters: パトカー\n",
      "1, 3 ,5, 7th letters: タクシー\n"
     ]
    }
   ],
   "source": [
    "a01string = \"パタトクカシーー\"\n",
    "print (\"0, 2, 4, 6th letters: %s\" % a01string[::2])\n",
    "print (\"1, 3 ,5, 7th letters: %s\" % a01string[1::2])"
   ]
  },
  {
   "cell_type": "markdown",
   "metadata": {},
   "source": [
    "## 02. 「パトカー」＋「タクシー」＝「パタトクカシーー」\n",
    "「パトカー」＋「タクシー」の文字を先頭から交互に連結して文字列「パタトクカシーー」を得よ．"
   ]
  },
  {
   "cell_type": "code",
   "execution_count": 23,
   "metadata": {
    "collapsed": false
   },
   "outputs": [
    {
     "data": {
      "text/plain": [
       "'パタトクカシーー'"
      ]
     },
     "execution_count": 23,
     "metadata": {},
     "output_type": "execute_result"
    }
   ],
   "source": [
    "a02string = \"パトカー\"\n",
    "b02string = \"タクシー\"\n",
    "\n",
    "a02list, b02list = list(a02string), list(b02string)\n",
    "\"\".join([twin for tuple in zip(a02list, b02list) for twin in tuple])"
   ]
  },
  {
   "cell_type": "markdown",
   "metadata": {},
   "source": [
    "## 03. 円周率\n",
    "\"Now I need a drink, alcoholic of course, after the heavy lectures involving quantum mechanics.\"という文を単語に分解し，各単語の（アルファベットの）文字数を先頭から出現順に並べたリストを作成せよ．"
   ]
  },
  {
   "cell_type": "code",
   "execution_count": 24,
   "metadata": {
    "collapsed": false
   },
   "outputs": [
    {
     "data": {
      "text/plain": [
       "[3, 1, 4, 1, 5, 9, 2, 6, 5, 3, 5, 8, 9, 7, 9]"
      ]
     },
     "execution_count": 24,
     "metadata": {},
     "output_type": "execute_result"
    }
   ],
   "source": [
    "import re\n",
    "\n",
    "a03sentence = \"Now I need a drink, alcoholic of course, after the heavy lectures involving quantum mechanics.\"\n",
    "a03list = a03sentence.split()\n",
    "\n",
    "# Remove commas with regex\n",
    "b03list = [re.sub(r'[^a-zA-Z0-9]', '', word) for word in a03list]\n",
    "\n",
    "# count the word length of each word in the sentence\n",
    "c03list = [len(word) for word in b03list]\n",
    "c03list"
   ]
  },
  {
   "cell_type": "markdown",
   "metadata": {},
   "source": [
    "## 04. 元素記号\n",
    "\"Hi He Lied Because Boron Could Not Oxidize Fluorine. New Nations Might Also Sign Peace Security Clause. Arthur King Can.\"という文を単語に分解し，1, 5, 6, 7, 8, 9, 15, 16, 19番目の単語は先頭の1文字，それ以外の単語は先頭に2文字を取り出し，取り出した文字列から単語の位置（先頭から何番目の単語か）への連想配列（辞書型もしくはマップ型）を作成せよ．"
   ]
  },
  {
   "cell_type": "code",
   "execution_count": 25,
   "metadata": {
    "collapsed": false
   },
   "outputs": [
    {
     "data": {
      "text/plain": [
       "{'Al': 13,\n",
       " 'Ar': 18,\n",
       " 'B': 5,\n",
       " 'Be': 4,\n",
       " 'C': 6,\n",
       " 'Ca': 20,\n",
       " 'Cl': 17,\n",
       " 'F': 9,\n",
       " 'H': 1,\n",
       " 'He': 2,\n",
       " 'K': 19,\n",
       " 'Li': 3,\n",
       " 'Mi': 12,\n",
       " 'N': 7,\n",
       " 'Na': 11,\n",
       " 'Ne': 10,\n",
       " 'O': 8,\n",
       " 'P': 15,\n",
       " 'S': 16,\n",
       " 'Si': 14}"
      ]
     },
     "execution_count": 25,
     "metadata": {},
     "output_type": "execute_result"
    }
   ],
   "source": [
    "a04sentence = \"Hi He Lied Because Boron Could Not Oxidize Fluorine. \\\n",
    "    New Nations Might Also Sign Peace Security Clause. Arthur King Can.\"\n",
    "\n",
    "# Split and remove non alpha numeric characters.\n",
    "a04_word_list = a04sentence.split()\n",
    "b04_word_list = [re.sub(r'[^a-zA-Z0-9]', '', word) for word in a04_word_list]\n",
    "\n",
    "a04_index_list = [1,5,6,7,8,9,15,16,19]\n",
    "a04_word_dict = {}\n",
    "# Start loop from 1, not 0\n",
    "for i in range(1, len(b04_word_list)+1):\n",
    "    if i in a04_index_list:\n",
    "        # But use list indexs like a normal 0 starting list\n",
    "        a04_word_dict[b04_word_list[i-1][:1]] = i\n",
    "    else:\n",
    "        a04_word_dict[b04_word_list[i-1][:2]] = i\n",
    "\n",
    "a04_word_dict"
   ]
  },
  {
   "cell_type": "markdown",
   "metadata": {},
   "source": [
    "## 05. n-gram\n",
    "与えられたシーケンス（文字列やリストなど）からn-gramを作る関数を作成せよ．<br>\n",
    "この関数を用い，\"I am an NLPer\"という文から単語bi-gram，文字bi-gramを得よ．"
   ]
  },
  {
   "cell_type": "code",
   "execution_count": 26,
   "metadata": {
    "collapsed": false
   },
   "outputs": [
    {
     "name": "stdout",
     "output_type": "stream",
     "text": [
      "Original sentence:  I am an NLPer. \n",
      "\n",
      "Word bi-gram:\n",
      "['I am', 'am an', 'an NLPer']\n",
      "Letter bi-gram:\n",
      "['Ia', 'am', 'ma', 'an', 'nN', 'NL', 'LP', 'Pe', 'er']\n"
     ]
    }
   ],
   "source": [
    "import re\n",
    "\n",
    "def bigram(seq):\n",
    "    # Remove non-aplhanumeric characters from given sequence.\n",
    "    seq = [re.sub(r'[^a-zA-Z0-9]', '', word) for word in seq]\n",
    "    \n",
    "    if isinstance(seq, str):\n",
    "        if len(seq.split(' ')) == 1:    # if sequence is just a single word\n",
    "            seq_l_list = seq        # split it into letters\n",
    "        else:\n",
    "            seq_w_list = seq.split()\n",
    "            seq_l_list = \"\".join(seq.split())\n",
    "            \n",
    "    elif isinstance(seq, list):\n",
    "        if len(seq) == 1:               # if sequence is just a single word\n",
    "            seq_l_list = seq\n",
    "        else:\n",
    "            seq_w_list = seq\n",
    "            seq_l_list = \"\".join(seq)\n",
    "\n",
    "    else:\n",
    "        print(\"Not a string or list\")\n",
    "        return None\n",
    "    \n",
    "    w_bi = [seq_w_list[idx] + \" \" + seq_w_list[idx+1] for idx in range(len(seq_w_list))[:-1]] # [:-1] since n+1 does not exist in array\n",
    "    l_bi = [seq_l_list[idx] + seq_l_list[idx+1] for idx in range(len(seq_l_list))[:-1]]\n",
    "        \n",
    "    return w_bi, l_bi\n",
    "\n",
    "a05sentence = \"I am an NLPer.\"\n",
    "\n",
    "print(\"Original sentence: \", a05sentence, \"\\n\")\n",
    "\n",
    "a05sentence_list = a05sentence.split()\n",
    "\n",
    "word_bigram, letter_bigram = bigram(a05sentence_list)\n",
    "print('Word bi-gram:')\n",
    "print(word_bigram)\n",
    "print('Letter bi-gram:')\n",
    "print(letter_bigram)"
   ]
  },
  {
   "cell_type": "markdown",
   "metadata": {
    "collapsed": true
   },
   "source": [
    "## 06. 集合\n",
    "\"paraparaparadise\"と\"paragraph\"に含まれる文字bi-gramの集合を，それぞれ, XとYとして求め，XとYの和集合，積集合，差集合を求めよ．さらに，'se'というbi-gramがXおよびYに含まれるかどうかを調べよ．"
   ]
  },
  {
   "cell_type": "code",
   "execution_count": 27,
   "metadata": {
    "collapsed": false
   },
   "outputs": [
    {
     "name": "stdout",
     "output_type": "stream",
     "text": [
      "Bigram of: paraparaparadise ['pa', 'ar', 'ra', 'ap', 'pa', 'ar', 'ra', 'ap', 'pa', 'ar', 'ra', 'ad', 'di', 'is', 'se']\n",
      "Bigram of: paragraph ['pa', 'ar', 'ra', 'ag', 'gr', 'ra', 'ap', 'ph']\n",
      "\n",
      "AND(積集合)\t: ['pa', 'ar', 'ra', 'ag', 'gr', 'ra', 'ap', 'ph']\n",
      "UNION(和集合)\t: ['pa', 'ar', 'ra', 'ap', 'pa', 'ar', 'ra', 'ap', 'pa', 'ar', 'ra', 'ad', 'di', 'is', 'se']\n",
      "DIFF(差集合)X-Y\t: {'is', 'ad', 'se', 'di'}\n",
      "DIFF(差集合)X-Y\t: {'gr', 'ag', 'ph'}\n"
     ]
    }
   ],
   "source": [
    "a06word = \"paraparaparadise\"\n",
    "b06word = \"paragraph\"\n",
    "\n",
    "_, a06X = bigram(a06word)\n",
    "_, b06Y = bigram(b06word)\n",
    "\n",
    "print (\"Bigram of:\", a06word, a06X)\n",
    "print (\"Bigram of:\", b06word, b06Y)\n",
    "print ()\n",
    "print (\"AND(積集合)\\t:\", a06X and b06Y)\n",
    "print (\"UNION(和集合)\\t:\", a06X or b06Y)\n",
    "print (\"DIFF(差集合)X-Y\\t:\", set(a06X).difference(b06Y))\n",
    "print (\"DIFF(差集合)X-Y\\t:\", set(b06Y).difference(a06X))"
   ]
  },
  {
   "cell_type": "markdown",
   "metadata": {},
   "source": [
    "## 07. テンプレートによる文生成\n",
    "引数x, y, zを受け取り「x時のyはz」という文字列を返す関数を実装せよ．さらに，x=12, y=\"気温\", z=22.4として，実行結果を確認せよ．"
   ]
  },
  {
   "cell_type": "code",
   "execution_count": 28,
   "metadata": {
    "collapsed": false
   },
   "outputs": [
    {
     "name": "stdout",
     "output_type": "stream",
     "text": [
      "12時の気温は22.4\n"
     ]
    }
   ],
   "source": [
    "def template(x,y,z):\n",
    "    return \"{}時の{}は{}\".format(x,y,z)\n",
    "\n",
    "print(template(12,\"気温\",22.4))"
   ]
  },
  {
   "cell_type": "markdown",
   "metadata": {},
   "source": [
    "## 08. 暗号文\n",
    "与えられた文字列の各文字を，以下の仕様で変換する関数cipherを実装せよ．\n",
    "- 英小文字ならば(219 - 文字コード)の文字に置換\n",
    "- その他の文字はそのまま出力\n",
    "この関数を用い，英語のメッセージを暗号化・復号化せよ．"
   ]
  },
  {
   "cell_type": "code",
   "execution_count": 29,
   "metadata": {
    "collapsed": false
   },
   "outputs": [
    {
     "name": "stdout",
     "output_type": "stream",
     "text": [
      "In:\t Can I have a can of ham?\n",
      "Out:\t Czm I szev z xzm lu szn?\n"
     ]
    }
   ],
   "source": [
    "def cipher(sentence):\n",
    "    words = sentence.split()\n",
    "    # TODO: Make this one-liner reader friendly\n",
    "    out_words = \" \".join([\"\".join([chr(219 - ord(letter)) if letter.islower() else letter for letter in word]) for word in words])\n",
    "    return out_words\n",
    "            \n",
    "a08string = \"Can I have a can of ham?\"\n",
    "print(\"In:\\t\",a08string)\n",
    "print(\"Out:\\t\",cipher(a08string))"
   ]
  },
  {
   "cell_type": "markdown",
   "metadata": {},
   "source": [
    "## 09. Typoglycemia\n",
    "スペースで区切られた単語列に対して，各単語の先頭と末尾の文字は残し，それ以外の文字の順序をランダムに並び替えるプログラムを作成せよ．ただし，長さが４以下の単語は並び替えないこととする．適当な英語の文（例えば\"I couldn't believe that I could actually understand what I was reading : the phenomenal power of the human mind .\"）を与え，その実行結果を確認せよ．"
   ]
  },
  {
   "cell_type": "code",
   "execution_count": 30,
   "metadata": {
    "collapsed": false
   },
   "outputs": [
    {
     "name": "stdout",
     "output_type": "stream",
     "text": [
      "I couldn't believe that I could actually understand what I was reading : the phenomenal power of the human mind .\n",
      "I co'ldnut bievele that I could atauclly usatedrnnd what I was rideang : the pnohnmaeel pwoer of the huamn mind .\n"
     ]
    }
   ],
   "source": [
    "from random import sample\n",
    "\n",
    "def shuffleletters(word):\n",
    "    word = list(word)\n",
    "\n",
    "def typoglycemiaize(sentence):\n",
    "    words = sentence.split()\n",
    "    out_word_list = []\n",
    "    \n",
    "    for idx, word in enumerate(words):\n",
    "        if len(word) > 4:\n",
    "            first_letter = word[0]\n",
    "            last_letter = word[len(word)-1]\n",
    "            mid_letter = word[1:len(word)-1]\n",
    "            mid_letter = sample(mid_letter,len(mid_letter))\n",
    "            \n",
    "            out_word = list(map(list, [first_letter, mid_letter, last_letter]))\n",
    "            out_word = [i for sublist in out_word for i in sublist]\n",
    "            out_word_list.append(\"\".join(out_word))\n",
    "        else:\n",
    "            out_word_list.append(word)\n",
    "    \n",
    "    out_sentence = \" \".join(out_word_list)\n",
    "    return out_sentence\n",
    "\n",
    "a09sentence = \"I couldn't believe that I could actually understand what \\\n",
    "I was reading : the phenomenal power of the human mind .\"\n",
    "\n",
    "print(a09sentence)\n",
    "print(typoglycemiaize(a09sentence))"
   ]
  }
 ],
 "metadata": {
  "anaconda-cloud": {},
  "kernelspec": {
   "display_name": "Python [conda root]",
   "language": "python",
   "name": "conda-root-py"
  },
  "language_info": {
   "codemirror_mode": {
    "name": "ipython",
    "version": 3
   },
   "file_extension": ".py",
   "mimetype": "text/x-python",
   "name": "python",
   "nbconvert_exporter": "python",
   "pygments_lexer": "ipython3",
   "version": "3.5.2"
  }
 },
 "nbformat": 4,
 "nbformat_minor": 1
}
