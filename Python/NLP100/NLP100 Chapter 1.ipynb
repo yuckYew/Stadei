{
 "cells": [
  {
   "cell_type": "markdown",
   "metadata": {},
   "source": [
    "# 言語処理100本ノックをやってみる\n",
    "\n",
    "## 実装はPython3"
   ]
  },
  {
   "cell_type": "markdown",
   "metadata": {},
   "source": [
    "# 第1章: 準備運動\n",
    "\n",
    "## 00. 文字列の逆順\n",
    "\n",
    "文字列\"stressed\"の文字を逆に（末尾から先頭に向かって）並べた文字列を得よ．"
   ]
  },
  {
   "cell_type": "code",
   "execution_count": 52,
   "metadata": {
    "collapsed": false
   },
   "outputs": [
    {
     "data": {
      "text/plain": [
       "'desserts'"
      ]
     },
     "execution_count": 52,
     "metadata": {},
     "output_type": "execute_result"
    }
   ],
   "source": [
    "a00string = \"stressed\"\n",
    "a00string[::-1]"
   ]
  },
  {
   "cell_type": "markdown",
   "metadata": {},
   "source": [
    "## 01. 「パタトクカシーー」\n",
    "「パタトクカシーー」という文字列の1,3,5,7文字目を取り出して連結した文字列を得よ．"
   ]
  },
  {
   "cell_type": "code",
   "execution_count": 53,
   "metadata": {
    "collapsed": false
   },
   "outputs": [
    {
     "name": "stdout",
     "output_type": "stream",
     "text": [
      "0, 2, 4, 6th letters: パトカー\n",
      "1, 3 ,5, 7th letters: タクシー\n"
     ]
    }
   ],
   "source": [
    "a01string = \"パタトクカシーー\"\n",
    "print (\"0, 2, 4, 6th letters: %s\" % a01string[::2])\n",
    "print (\"1, 3 ,5, 7th letters: %s\" % a01string[1::2])"
   ]
  },
  {
   "cell_type": "markdown",
   "metadata": {},
   "source": [
    "## 02. 「パトカー」＋「タクシー」＝「パタトクカシーー」\n",
    "「パトカー」＋「タクシー」の文字を先頭から交互に連結して文字列「パタトクカシーー」を得よ．"
   ]
  },
  {
   "cell_type": "code",
   "execution_count": 54,
   "metadata": {
    "collapsed": false
   },
   "outputs": [
    {
     "data": {
      "text/plain": [
       "'パタトクカシーー'"
      ]
     },
     "execution_count": 54,
     "metadata": {},
     "output_type": "execute_result"
    }
   ],
   "source": [
    "a02string = \"パトカー\"\n",
    "b02string = \"タクシー\"\n",
    "\n",
    "a02list, b02list = list(a02string), list(b02string)\n",
    "\"\".join([twin for tuple in zip(a02list, b02list) for twin in tuple])"
   ]
  },
  {
   "cell_type": "markdown",
   "metadata": {},
   "source": [
    "## 03. 円周率\n",
    "\"Now I need a drink, alcoholic of course, after the heavy lectures involving quantum mechanics.\"という文を単語に分解し，各単語の（アルファベットの）文字数を先頭から出現順に並べたリストを作成せよ．"
   ]
  },
  {
   "cell_type": "code",
   "execution_count": 55,
   "metadata": {
    "collapsed": false
   },
   "outputs": [
    {
     "data": {
      "text/plain": [
       "[3, 1, 4, 1, 5, 9, 2, 6, 5, 3, 5, 8, 9, 7, 9]"
      ]
     },
     "execution_count": 55,
     "metadata": {},
     "output_type": "execute_result"
    }
   ],
   "source": [
    "import re\n",
    "\n",
    "a03sentence = \"Now I need a drink, alcoholic of course, after the heavy lectures involving quantum mechanics.\"\n",
    "a03list = a03sentence.split()\n",
    "\n",
    "# Remove commas with regex\n",
    "b03list = [re.sub(r'[^a-zA-Z0-9]', '', word) for word in a03list]\n",
    "\n",
    "# count the word length of each word in the sentence\n",
    "c03list = [len(word) for word in b03list]\n",
    "c03list"
   ]
  },
  {
   "cell_type": "markdown",
   "metadata": {},
   "source": [
    "## 04. 元素記号\n",
    "\"Hi He Lied Because Boron Could Not Oxidize Fluorine. New Nations Might Also Sign Peace Security Clause. Arthur King Can.\"という文を単語に分解し，1, 5, 6, 7, 8, 9, 15, 16, 19番目の単語は先頭の1文字，それ以外の単語は先頭に2文字を取り出し，取り出した文字列から単語の位置（先頭から何番目の単語か）への連想配列（辞書型もしくはマップ型）を作成せよ．"
   ]
  },
  {
   "cell_type": "code",
   "execution_count": 56,
   "metadata": {
    "collapsed": false
   },
   "outputs": [
    {
     "data": {
      "text/plain": [
       "{'Al': 13,\n",
       " 'Ar': 18,\n",
       " 'B': 5,\n",
       " 'Be': 4,\n",
       " 'C': 6,\n",
       " 'Ca': 20,\n",
       " 'Cl': 17,\n",
       " 'F': 9,\n",
       " 'H': 1,\n",
       " 'He': 2,\n",
       " 'K': 19,\n",
       " 'Li': 3,\n",
       " 'Mi': 12,\n",
       " 'N': 7,\n",
       " 'Na': 11,\n",
       " 'Ne': 10,\n",
       " 'O': 8,\n",
       " 'P': 15,\n",
       " 'S': 16,\n",
       " 'Si': 14}"
      ]
     },
     "execution_count": 56,
     "metadata": {},
     "output_type": "execute_result"
    }
   ],
   "source": [
    "a04sentence = \"Hi He Lied Because Boron Could Not Oxidize Fluorine. \\\n",
    "    New Nations Might Also Sign Peace Security Clause. Arthur King Can.\"\n",
    "\n",
    "# Split and remove non alpha numeric characters.\n",
    "a04_word_list = a04sentence.split()\n",
    "b04_word_list = [re.sub(r'[^a-zA-Z0-9]', '', word) for word in a04_word_list]\n",
    "\n",
    "a04_index_list = [1,5,6,7,8,9,15,16,19]\n",
    "a04_word_dict = {}\n",
    "# Start loop from 1, not 0\n",
    "for i in range(1, len(b04_word_list)+1):\n",
    "    if i in a04_index_list:\n",
    "        # But use list indexs like a normal 0 starting list\n",
    "        a04_word_dict[b04_word_list[i-1][:1]] = i\n",
    "    else:\n",
    "        a04_word_dict[b04_word_list[i-1][:2]] = i\n",
    "\n",
    "a04_word_dict"
   ]
  },
  {
   "cell_type": "markdown",
   "metadata": {},
   "source": [
    "## 05. n-gram\n",
    "与えられたシーケンス（文字列やリストなど）からn-gramを作る関数を作成せよ．<br>\n",
    "この関数を用い，\"I am an NLPer\"という文から単語bi-gram，文字bi-gramを得よ．"
   ]
  },
  {
   "cell_type": "code",
   "execution_count": 58,
   "metadata": {
    "collapsed": false
   },
   "outputs": [
    {
     "name": "stdout",
     "output_type": "stream",
     "text": [
      "Word bi-gram:\n",
      "['This is', 'is a', 'a pen', 'pen and', 'and it', 'it is', 'is sharp.']\n",
      "Letter bi-gram:\n",
      "['Th', 'hi', 'is', 'si', 'is', 'sa', 'ap', 'pe', 'en', 'na', 'an', 'nd', 'di', 'it', 'ti', 'is', 'ss', 'sh', 'ha', 'ar', 'rp', 'p.']\n"
     ]
    }
   ],
   "source": [
    "def bigram(seq):\n",
    "    # TODO: Remove non-aplhanumeric characters from given sequence.\n",
    "    \n",
    "    if isinstance(seq, str):\n",
    "        if len(seq.split(' ')) == 1:    # if sequence is just a single word\n",
    "            seq_list = list(seq)        # split it into letters\n",
    "        else:\n",
    "            seq_w_list = seq.split()\n",
    "            seq_l_list = \"\".join(seq.split())\n",
    "        \n",
    "        w_bi = [seq_w_list[idx] + \" \" + seq_w_list[idx+1] for idx in range(len(seq_w_list))[:-1]] # [:-1] since n+1 does not exist in array\n",
    "        l_bi = [seq_l_list[idx] + seq_l_list[idx+1] for idx in range(len(seq_l_list))[:-1]]\n",
    "        \n",
    "        return w_bi, l_bi\n",
    "\n",
    "    # TODO: when seq is given as a list\n",
    "    elif isinstance(seq, list):\n",
    "        return None\n",
    "    else:\n",
    "        print(\"Not a string or list\")\n",
    "        return None\n",
    "\n",
    "word_bigram, letter_bigram = bigram('This is a pen and it is sharp.')\n",
    "print('Word bi-gram:')\n",
    "print(word_bigram)\n",
    "print('Letter bi-gram:')\n",
    "print(letter_bigram)"
   ]
  },
  {
   "cell_type": "code",
   "execution_count": null,
   "metadata": {
    "collapsed": true
   },
   "outputs": [],
   "source": []
  }
 ],
 "metadata": {
  "anaconda-cloud": {},
  "kernelspec": {
   "display_name": "Python [conda root]",
   "language": "python",
   "name": "conda-root-py"
  },
  "language_info": {
   "codemirror_mode": {
    "name": "ipython",
    "version": 3
   },
   "file_extension": ".py",
   "mimetype": "text/x-python",
   "name": "python",
   "nbconvert_exporter": "python",
   "pygments_lexer": "ipython3",
   "version": "3.5.2"
  }
 },
 "nbformat": 4,
 "nbformat_minor": 1
}
