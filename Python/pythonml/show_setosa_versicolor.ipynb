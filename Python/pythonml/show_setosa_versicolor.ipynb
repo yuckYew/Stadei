{
 "cells": [
  {
   "cell_type": "markdown",
   "metadata": {},
   "source": [
    "# Training a perceptron model on the Iris dataset"
   ]
  },
  {
   "cell_type": "markdown",
   "metadata": {},
   "source": [
    "## Imports"
   ]
  },
  {
   "cell_type": "code",
   "execution_count": 1,
   "metadata": {
    "collapsed": false
   },
   "outputs": [],
   "source": [
    "import pandas as pd\n",
    "import matplotlib.pyplot as plt\n",
    "from matplotlib.colors import ListedColormap\n",
    "import numpy as np\n",
    "# Self-defined modules\n",
    "from perceptron import Perceptron"
   ]
  },
  {
   "cell_type": "markdown",
   "metadata": {},
   "source": [
    "## Read Iris dataset to dataframe"
   ]
  },
  {
   "cell_type": "code",
   "execution_count": 2,
   "metadata": {
    "collapsed": false
   },
   "outputs": [
    {
     "data": {
      "text/html": [
       "<div>\n",
       "<table border=\"1\" class=\"dataframe\">\n",
       "  <thead>\n",
       "    <tr style=\"text-align: right;\">\n",
       "      <th></th>\n",
       "      <th>0</th>\n",
       "      <th>1</th>\n",
       "      <th>2</th>\n",
       "      <th>3</th>\n",
       "      <th>4</th>\n",
       "    </tr>\n",
       "  </thead>\n",
       "  <tbody>\n",
       "    <tr>\n",
       "      <th>0</th>\n",
       "      <td>5.1</td>\n",
       "      <td>3.5</td>\n",
       "      <td>1.4</td>\n",
       "      <td>0.2</td>\n",
       "      <td>Iris-setosa</td>\n",
       "    </tr>\n",
       "    <tr>\n",
       "      <th>1</th>\n",
       "      <td>4.9</td>\n",
       "      <td>3.0</td>\n",
       "      <td>1.4</td>\n",
       "      <td>0.2</td>\n",
       "      <td>Iris-setosa</td>\n",
       "    </tr>\n",
       "    <tr>\n",
       "      <th>2</th>\n",
       "      <td>4.7</td>\n",
       "      <td>3.2</td>\n",
       "      <td>1.3</td>\n",
       "      <td>0.2</td>\n",
       "      <td>Iris-setosa</td>\n",
       "    </tr>\n",
       "    <tr>\n",
       "      <th>3</th>\n",
       "      <td>4.6</td>\n",
       "      <td>3.1</td>\n",
       "      <td>1.5</td>\n",
       "      <td>0.2</td>\n",
       "      <td>Iris-setosa</td>\n",
       "    </tr>\n",
       "    <tr>\n",
       "      <th>4</th>\n",
       "      <td>5.0</td>\n",
       "      <td>3.6</td>\n",
       "      <td>1.4</td>\n",
       "      <td>0.2</td>\n",
       "      <td>Iris-setosa</td>\n",
       "    </tr>\n",
       "  </tbody>\n",
       "</table>\n",
       "</div>"
      ],
      "text/plain": [
       "     0    1    2    3            4\n",
       "0  5.1  3.5  1.4  0.2  Iris-setosa\n",
       "1  4.9  3.0  1.4  0.2  Iris-setosa\n",
       "2  4.7  3.2  1.3  0.2  Iris-setosa\n",
       "3  4.6  3.1  1.5  0.2  Iris-setosa\n",
       "4  5.0  3.6  1.4  0.2  Iris-setosa"
      ]
     },
     "execution_count": 2,
     "metadata": {},
     "output_type": "execute_result"
    }
   ],
   "source": [
    "df = pd.read_csv('https://archive.ics.uci.edu/ml/machine-learning-databases/iris/iris.data', header=None)\n",
    "df.head()"
   ]
  },
  {
   "cell_type": "code",
   "execution_count": 3,
   "metadata": {
    "collapsed": false
   },
   "outputs": [
    {
     "name": "stdout",
     "output_type": "stream",
     "text": [
      "[-1 -1 -1 -1 -1 -1 -1 -1 -1 -1 -1 -1 -1 -1 -1 -1 -1 -1 -1 -1 -1 -1 -1 -1 -1\n",
      " -1 -1 -1 -1 -1 -1 -1 -1 -1 -1 -1 -1 -1 -1 -1 -1 -1 -1 -1 -1 -1 -1 -1 -1 -1\n",
      "  1  1  1  1  1  1  1  1  1  1  1  1  1  1  1  1  1  1  1  1  1  1  1  1  1\n",
      "  1  1  1  1  1  1  1  1  1  1  1  1  1  1  1  1  1  1  1  1  1  1  1  1  1]\n",
      "[[ 5.1  1.4]\n",
      " [ 4.9  1.4]\n",
      " [ 4.7  1.3]\n",
      " [ 4.6  1.5]\n",
      " [ 5.   1.4]\n",
      " [ 5.4  1.7]\n",
      " [ 4.6  1.4]\n",
      " [ 5.   1.5]\n",
      " [ 4.4  1.4]\n",
      " [ 4.9  1.5]\n",
      " [ 5.4  1.5]\n",
      " [ 4.8  1.6]\n",
      " [ 4.8  1.4]\n",
      " [ 4.3  1.1]\n",
      " [ 5.8  1.2]\n",
      " [ 5.7  1.5]\n",
      " [ 5.4  1.3]\n",
      " [ 5.1  1.4]\n",
      " [ 5.7  1.7]\n",
      " [ 5.1  1.5]\n",
      " [ 5.4  1.7]\n",
      " [ 5.1  1.5]\n",
      " [ 4.6  1. ]\n",
      " [ 5.1  1.7]\n",
      " [ 4.8  1.9]\n",
      " [ 5.   1.6]\n",
      " [ 5.   1.6]\n",
      " [ 5.2  1.5]\n",
      " [ 5.2  1.4]\n",
      " [ 4.7  1.6]\n",
      " [ 4.8  1.6]\n",
      " [ 5.4  1.5]\n",
      " [ 5.2  1.5]\n",
      " [ 5.5  1.4]\n",
      " [ 4.9  1.5]\n",
      " [ 5.   1.2]\n",
      " [ 5.5  1.3]\n",
      " [ 4.9  1.5]\n",
      " [ 4.4  1.3]\n",
      " [ 5.1  1.5]\n",
      " [ 5.   1.3]\n",
      " [ 4.5  1.3]\n",
      " [ 4.4  1.3]\n",
      " [ 5.   1.6]\n",
      " [ 5.1  1.9]\n",
      " [ 4.8  1.4]\n",
      " [ 5.1  1.6]\n",
      " [ 4.6  1.4]\n",
      " [ 5.3  1.5]\n",
      " [ 5.   1.4]\n",
      " [ 7.   4.7]\n",
      " [ 6.4  4.5]\n",
      " [ 6.9  4.9]\n",
      " [ 5.5  4. ]\n",
      " [ 6.5  4.6]\n",
      " [ 5.7  4.5]\n",
      " [ 6.3  4.7]\n",
      " [ 4.9  3.3]\n",
      " [ 6.6  4.6]\n",
      " [ 5.2  3.9]\n",
      " [ 5.   3.5]\n",
      " [ 5.9  4.2]\n",
      " [ 6.   4. ]\n",
      " [ 6.1  4.7]\n",
      " [ 5.6  3.6]\n",
      " [ 6.7  4.4]\n",
      " [ 5.6  4.5]\n",
      " [ 5.8  4.1]\n",
      " [ 6.2  4.5]\n",
      " [ 5.6  3.9]\n",
      " [ 5.9  4.8]\n",
      " [ 6.1  4. ]\n",
      " [ 6.3  4.9]\n",
      " [ 6.1  4.7]\n",
      " [ 6.4  4.3]\n",
      " [ 6.6  4.4]\n",
      " [ 6.8  4.8]\n",
      " [ 6.7  5. ]\n",
      " [ 6.   4.5]\n",
      " [ 5.7  3.5]\n",
      " [ 5.5  3.8]\n",
      " [ 5.5  3.7]\n",
      " [ 5.8  3.9]\n",
      " [ 6.   5.1]\n",
      " [ 5.4  4.5]\n",
      " [ 6.   4.5]\n",
      " [ 6.7  4.7]\n",
      " [ 6.3  4.4]\n",
      " [ 5.6  4.1]\n",
      " [ 5.5  4. ]\n",
      " [ 5.5  4.4]\n",
      " [ 6.1  4.6]\n",
      " [ 5.8  4. ]\n",
      " [ 5.   3.3]\n",
      " [ 5.6  4.2]\n",
      " [ 5.7  4.2]\n",
      " [ 5.7  4.2]\n",
      " [ 6.2  4.3]\n",
      " [ 5.1  3. ]\n",
      " [ 5.7  4.1]]\n"
     ]
    },
    {
     "data": {
      "image/png": "[encoded data removed]",
      "text/plain": [
       "<matplotlib.figure.Figure at 0x7f5d79fcbb38>"
      ]
     },
     "metadata": {},
     "output_type": "display_data"
    }
   ],
   "source": [
    "y = df.iloc[0:100, 4].values\n",
    "y = np.where(y == 'Iris-setosa', -1, 1)\n",
    "# get Sepal length and Petal Length\n",
    "X = df.iloc[0:100, [0,2]].values\n",
    "print (y)\n",
    "print (X)\n",
    "plt.scatter(X[:50, 0],X[:50, 1],color='red', marker='o', label='setosa')\n",
    "plt.scatter(X[50:100, 0],X[50:100, 1],color='blue', marker='x', label='versicolor')\n",
    "plt.xlabel('petal length')\n",
    "plt.ylabel('sepal length')\n",
    "plt.legend(loc='upper left')\n",
    "plt.show()"
   ]
  },
  {
   "cell_type": "code",
   "execution_count": 4,
   "metadata": {
    "collapsed": false
   },
   "outputs": [
    {
     "data": {
      "image/png": "[encoded data removed]",
      "text/plain": [
       "<matplotlib.figure.Figure at 0x7f5d7a84bd30>"
      ]
     },
     "metadata": {},
     "output_type": "display_data"
    }
   ],
   "source": [
    "ppn = Perceptron(eta=0.1, n_iter=10)\n",
    "ppn.fit(X,y)\n",
    "plt.plot(range(1, len(ppn.errors_) + 1), ppn.errors_, marker='o')\n",
    "plt.xlabel('Epochs')\n",
    "plt.ylabel('Number of misclassifications')\n",
    "plt.show()"
   ]
  },
  {
   "cell_type": "markdown",
   "metadata": {},
   "source": [
    "## Visualize the decision boundaries"
   ]
  },
  {
   "cell_type": "code",
   "execution_count": 5,
   "metadata": {
    "collapsed": true
   },
   "outputs": [],
   "source": [
    "def plot_decision_regions(X, y, classifier, resolution=0.02):\n",
    "    # setup marker generator and color map\n",
    "    markers = ('s', 'x', 'o', '^', 'v')\n",
    "    colors = ('red', 'blue', 'lightgreen', 'gray', 'cyan')\n",
    "    cmap = ListedColormap(colors[:len(np.unique(y))])\n",
    "    \n",
    "    # plot the decision surface\n",
    "    x1_min, x1_max = X[:, 0].min() - 1, X[:,0].max() + 1\n",
    "    x2_min, x2_max = X[:, 1].min() - 1, X[:,1].max() + 1\n",
    "    \n",
    "    xx1, xx2 = np.meshgrid(np.arange(x1_min, x1_max, resolution), \n",
    "                           np.arange(x2_min, x2_max, resolution))\n",
    "    print(xx1.ravel(), xx2.ravel())\n",
    "    print(xx1.ravel().shape, xx2.shape)\n",
    "    \n",
    "    Z = classifier.predict(np.array([xx1.ravel(), xx2.ravel()]).T)\n",
    "    Z = Z.reshape(xx1.shape)\n",
    "    plt.contourf(xx1, xx2, Z, alpha=0.4, cmap=cmap)\n",
    "    plt.xlim(xx1.min(), xx1.max())\n",
    "    plt.ylim(xx2.min(), xx2.max())\n",
    "    \n",
    "    # plot class samples\n",
    "    for idx, cl in enumerate(np.unique(y)):\n",
    "        plt.scatter(x=X[y == cl, 0], y = X[y == cl, 1],\n",
    "                    alpha=0.8, c=cmap(idx),\n",
    "                    marker=markers[idx], label=cl)"
   ]
  },
  {
   "cell_type": "code",
   "execution_count": 6,
   "metadata": {
    "collapsed": false
   },
   "outputs": [
    {
     "name": "stdout",
     "output_type": "stream",
     "text": [
      "[ 3.3   3.32  3.34 ...,  7.94  7.96  7.98] [ 0.    0.    0.   ...,  6.08  6.08  6.08]\n",
      "(71675,) (305, 235)\n"
     ]
    },
    {
     "data": {
      "image/png": "[encoded data removed]",
      "text/plain": [
       "<matplotlib.figure.Figure at 0x7f5d7783b668>"
      ]
     },
     "metadata": {},
     "output_type": "display_data"
    }
   ],
   "source": [
    "plot_decision_regions(X, y, classifier=ppn)\n",
    "plt.xlabel('sepal length [cm]')\n",
    "plt.ylabel('petal length [cm]')\n",
    "plt.legend(loc='upper left')\n",
    "plt.show()"
   ]
  },
  {
   "cell_type": "code",
   "execution_count": 7,
   "metadata": {
    "collapsed": false
   },
   "outputs": [
    {
     "data": {
      "image/png": "[encoded data removed]",
      "text/plain": [
       "<matplotlib.figure.Figure at 0x7f5d775d82e8>"
      ]
     },
     "metadata": {},
     "output_type": "display_data"
    }
   ],
   "source": [
    "from adalinegd import AdalineGD\n",
    "\n",
    "fig, ax = plt.subplots(nrows=1, ncols=2, figsize=(8,4))\n",
    "ada1 = AdalineGD(n_iter=10, eta=0.01).fit(X,y)\n",
    "ax[0].plot(range(1, len(ada1.cost_) + 1),\n",
    "          np.log10(ada1.cost_), marker='o')\n",
    "ax[0].set_xlabel('Epochs')\n",
    "ax[0].set_ylabel('log(Sum-squared-error)')\n",
    "ax[0].set_title('Aadaline - Learning rate 0.01')\n",
    "ada2 = AdalineGD(n_iter=10, eta=0.0001).fit(X, y)\n",
    "ax[1].plot(range(1, len(ada2.cost_) + 1),\n",
    "          ada2.cost_, marker='o')\n",
    "ax[1].set_xlabel('Epochs')\n",
    "ax[1].set_ylabel('Sum-squared-error')\n",
    "ax[1].set_title('adaline - Learning rate to 0.0001')\n",
    "plt.show()"
   ]
  },
  {
   "cell_type": "code",
   "execution_count": null,
   "metadata": {
    "collapsed": true
   },
   "outputs": [],
   "source": []
  }
 ],
 "metadata": {
  "kernelspec": {
   "display_name": "Python 3",
   "language": "python",
   "name": "python3"
  },
  "language_info": {
   "codemirror_mode": {
    "name": "ipython",
    "version": 3
   },
   "file_extension": ".py",
   "mimetype": "text/x-python",
   "name": "python",
   "nbconvert_exporter": "python",
   "pygments_lexer": "ipython3",
   "version": "3.5.2"
  }
 },
 "nbformat": 4,
 "nbformat_minor": 2
}
